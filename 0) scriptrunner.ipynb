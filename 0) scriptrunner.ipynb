{
 "cells": [
  {
   "cell_type": "code",
   "execution_count": 1,
   "metadata": {},
   "outputs": [],
   "source": [
    "#default_exp scriptrunner"
   ]
  },
  {
   "cell_type": "code",
   "execution_count": 3,
   "metadata": {},
   "outputs": [],
   "source": [
    "#export\n",
    "import subprocess\n",
    "import shlex\n",
    "import datetime\n",
    "from fastai2.basics import Path\n",
    "import json"
   ]
  },
  {
   "cell_type": "code",
   "execution_count": 4,
   "metadata": {},
   "outputs": [],
   "source": [
    "#export\n",
    "def _now(): return datetime.datetime.now().strftime(\"%m/%d/%Y, %H:%M:%S\")\n",
    "\n",
    "def _add_dict_to_json(fn, d):\n",
    "    \"Adds a dictionary to json-like file or creates one\"\n",
    "    assert type(d) == dict\n",
    "    path = Path(fn)\n",
    "    if path.exists(): l = json.loads(path.open().read())\n",
    "    else: l = []    \n",
    "    l.append(d)\n",
    "    with open(fn, \"w\") as f: f.write(json.dumps(l))\n",
    "        \n",
    "def run_command(command, logfn=None):\n",
    "    \"Run shell command as an external process, optionally write logs to logfn\"\n",
    "    if type(command) == str: command = shlex.split(command)\n",
    "    elif type(command) == list: command = command\n",
    "    else: raise AssertionError(\"Command should be string or list\")\n",
    "    process = subprocess.Popen(command, stdout=subprocess.PIPE, stderr=subprocess.PIPE)\n",
    "    stdout = []\n",
    "    start_time = _now()\n",
    "    while True:\n",
    "        output = process.stdout.readline()\n",
    "        if output == b'' and process.poll() is not None: break\n",
    "        if output: \n",
    "            _out = output.decode(); print(_out.strip())\n",
    "            stdout.append(_out)\n",
    "    end_time = _now()\n",
    "    rc = process.poll()\n",
    "    _, stderr =  process.communicate()\n",
    "    err = stderr.decode(); print(err)\n",
    "    out = \"\".join(stdout)\n",
    "    if logfn:\n",
    "        d = {\"start_time\": start_time, \"end_time\": end_time, \n",
    "             \"command\": command, \"stderr\":err, \"stdout\":out}\n",
    "        _add_dict_to_json(logfn, d)\n",
    "    return rc"
   ]
  },
  {
   "cell_type": "code",
   "execution_count": 5,
   "metadata": {},
   "outputs": [
    {
     "name": "stdout",
     "output_type": "stream",
     "text": [
      "ls: cannot access asdas: No such file or directory\n",
      "\n"
     ]
    },
    {
     "data": {
      "text/plain": [
       "2"
      ]
     },
     "execution_count": 5,
     "metadata": {},
     "output_type": "execute_result"
    }
   ],
   "source": [
    "# error message printed after return_code=2\n",
    "run_command(\"ls asdas\", logfn='./loghere.json')"
   ]
  },
  {
   "cell_type": "code",
   "execution_count": 6,
   "metadata": {},
   "outputs": [],
   "source": [
    "import pandas as pd, os\n",
    "logdf = pd.read_json(\"./loghere.json\")\n",
    "os.remove(\"./loghere.json\")"
   ]
  },
  {
   "cell_type": "code",
   "execution_count": 7,
   "metadata": {},
   "outputs": [
    {
     "data": {
      "text/html": [
       "<div>\n",
       "<style scoped>\n",
       "    .dataframe tbody tr th:only-of-type {\n",
       "        vertical-align: middle;\n",
       "    }\n",
       "\n",
       "    .dataframe tbody tr th {\n",
       "        vertical-align: top;\n",
       "    }\n",
       "\n",
       "    .dataframe thead th {\n",
       "        text-align: right;\n",
       "    }\n",
       "</style>\n",
       "<table border=\"1\" class=\"dataframe\">\n",
       "  <thead>\n",
       "    <tr style=\"text-align: right;\">\n",
       "      <th></th>\n",
       "      <th>start_time</th>\n",
       "      <th>end_time</th>\n",
       "      <th>command</th>\n",
       "      <th>stderr</th>\n",
       "      <th>stdout</th>\n",
       "    </tr>\n",
       "  </thead>\n",
       "  <tbody>\n",
       "    <tr>\n",
       "      <th>0</th>\n",
       "      <td>2019-11-29 17:46:25</td>\n",
       "      <td>2019-11-29 17:46:25</td>\n",
       "      <td>[ls, asdas]</td>\n",
       "      <td>ls: cannot access asdas: No such file or directory\\n</td>\n",
       "      <td></td>\n",
       "    </tr>\n",
       "  </tbody>\n",
       "</table>\n",
       "</div>"
      ],
      "text/plain": [
       "           start_time            end_time      command  \\\n",
       "0 2019-11-29 17:46:25 2019-11-29 17:46:25  [ls, asdas]   \n",
       "\n",
       "                                                 stderr stdout  \n",
       "0  ls: cannot access asdas: No such file or directory\\n         "
      ]
     },
     "execution_count": 7,
     "metadata": {},
     "output_type": "execute_result"
    }
   ],
   "source": [
    "logdf"
   ]
  },
  {
   "cell_type": "markdown",
   "metadata": {},
   "source": [
    "### Export"
   ]
  },
  {
   "cell_type": "code",
   "execution_count": 12,
   "metadata": {
    "scrolled": true
   },
   "outputs": [
    {
     "name": "stdout",
     "output_type": "stream",
     "text": [
      "Converted 0) scriptrunner.ipynb.\n"
     ]
    }
   ],
   "source": [
    "from local.notebook.export import notebook2script\n",
    "notebook2script(\"0) scriptrunner.ipynb\")"
   ]
  },
  {
   "cell_type": "code",
   "execution_count": null,
   "metadata": {},
   "outputs": [],
   "source": []
  }
 ],
 "metadata": {
  "kernelspec": {
   "display_name": "Python [conda env:fastai_dev]",
   "language": "python",
   "name": "conda-env-fastai_dev-py"
  }
 },
 "nbformat": 4,
 "nbformat_minor": 2
}
